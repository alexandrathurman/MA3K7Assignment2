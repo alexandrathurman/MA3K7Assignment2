{
 "cells": [
  {
   "cell_type": "code",
   "execution_count": 1,
   "id": "c23b8895-32df-4ffe-9d7e-674356b26d6b",
   "metadata": {},
   "outputs": [],
   "source": [
    "import numpy as np\n",
    "import matplotlib.pyplot as plt\n",
    "import scipy.linalg as LA\n",
    "import random"
   ]
  },
  {
   "cell_type": "markdown",
   "id": "d983b441-d581-451f-9282-8bf8657318f8",
   "metadata": {},
   "source": [
    "## Determinant distribution of binary matrices"
   ]
  },
  {
   "cell_type": "markdown",
   "id": "5727c298-860f-4249-b263-34448c711b66",
   "metadata": {},
   "source": [
    "### 2x2 matrix"
   ]
  },
  {
   "cell_type": "code",
   "execution_count": 2,
   "id": "62db9203-ed8a-4b32-b50b-5a2be076b059",
   "metadata": {},
   "outputs": [
    {
     "data": {
      "image/png": "[encoded data removed]",
      "text/plain": [
       "<Figure size 432x288 with 1 Axes>"
      ]
     },
     "metadata": {
      "needs_background": "light"
     },
     "output_type": "display_data"
    }
   ],
   "source": [
    "import numpy as np\n",
    "from numpy import linalg as LA\n",
    "import matplotlib.pyplot as plt\n",
    "\n",
    "dim = 2\n",
    "sample = int(1e5)\n",
    "Det = []\n",
    "\n",
    "# Create a list with two 0's and two 1's\n",
    "elements = [0, 0, 1, 1]\n",
    "\n",
    "for _ in np.arange(sample):\n",
    "    # Shuffle the elements\n",
    "    np.random.shuffle(elements)\n",
    "    # Reshape the list to a 2x2 matrix\n",
    "    A = np.reshape(elements, (dim, dim))\n",
    "    detA = LA.det(A)\n",
    "    Det.append(detA)\n",
    "\n",
    "Max = max(Det)\n",
    "Min = min(Det)\n",
    "bins = np.arange(Min, Max+2)-0.5\n",
    "fig, ax = plt.subplots(1,1)\n",
    "Data, _, _=ax.hist(Det, bins, color ='teal', density=True, rwidth=0.8)\n",
    "ax.set_xlabel('Det A')\n",
    "ax.set_ylabel('Probability distribution')\n",
    "ax.set_xlim(Min-1, Max+1)\n",
    "ax.set_xticks(np.arange(Min,Max+1))\n",
    "plt.grid('on')\n",
    "plt.show()\n"
   ]
  },
  {
   "cell_type": "markdown",
   "id": "0c983e54-efbf-450d-bed9-54bd7e5406af",
   "metadata": {},
   "source": [
    "### 3x3 martix when P1 starts"
   ]
  },
  {
   "cell_type": "code",
   "execution_count": 3,
   "id": "a2d51215-2e34-4597-a829-f23e10bba7d8",
   "metadata": {},
   "outputs": [
    {
     "data": {
      "image/png": "[encoded data removed]",
      "text/plain": [
       "<Figure size 432x288 with 1 Axes>"
      ]
     },
     "metadata": {
      "needs_background": "light"
     },
     "output_type": "display_data"
    }
   ],
   "source": [
    "dim = 3\n",
    "sample = int(1e5)\n",
    "Det = []\n",
    "\n",
    "# Create a list with four 0's and five 1's\n",
    "elements = [0, 0, 0, 0, 1, 1, 1, 1, 1]\n",
    "\n",
    "for _ in np.arange(sample):\n",
    "    # Shuffle the elements\n",
    "    np.random.shuffle(elements)\n",
    "    # Reshape the list to a 3x3 matrix\n",
    "    A = np.reshape(elements, (dim, dim))\n",
    "    detA = LA.det(A)\n",
    "    Det.append(detA)\n",
    "\n",
    "Max = max(Det)\n",
    "Min = min(Det)\n",
    "bins = np.arange(Min, Max+2)-0.5\n",
    "fig, ax = plt.subplots(1,1)\n",
    "Data, _, _=ax.hist(Det, bins, color ='teal', density=True, rwidth=0.8)\n",
    "ax.set_xlabel('Det A')\n",
    "ax.set_ylabel('Probability distribution')\n",
    "ax.set_xlim(Min-1, Max+1)\n",
    "ax.set_xticks(np.arange(Min,Max+1))\n",
    "plt.grid('on')\n",
    "plt.show()\n"
   ]
  },
  {
   "cell_type": "markdown",
   "id": "f3039c0f-1fdd-4cd7-8c02-be0194c470cb",
   "metadata": {},
   "source": [
    "### 3x3 matrix when P0 starts"
   ]
  },
  {
   "cell_type": "code",
   "execution_count": 4,
   "id": "69c17d93-e238-4504-8c36-199bf1bf6d55",
   "metadata": {},
   "outputs": [
    {
     "data": {
      "image/png": "[encoded data removed]",
      "text/plain": [
       "<Figure size 432x288 with 1 Axes>"
      ]
     },
     "metadata": {
      "needs_background": "light"
     },
     "output_type": "display_data"
    }
   ],
   "source": [
    "dim = 3\n",
    "sample = int(1e5)\n",
    "Det = []\n",
    "\n",
    "# Create a list with four 0's and five 1's\n",
    "elements = [0, 0, 0, 0, 0, 1, 1, 1, 1]\n",
    "\n",
    "for _ in np.arange(sample):\n",
    "    # Shuffle the elements\n",
    "    np.random.shuffle(elements)\n",
    "    # Reshape the list to a 3x3 matrix\n",
    "    A = np.reshape(elements, (dim, dim))\n",
    "    detA = LA.det(A)\n",
    "    Det.append(detA)\n",
    "\n",
    "Max = max(Det)\n",
    "Min = min(Det)\n",
    "bins = np.arange(Min, Max+2)-0.5\n",
    "fig, ax = plt.subplots(1,1)\n",
    "Data, _, _=ax.hist(Det, bins, color ='teal', density=True, rwidth=0.8)\n",
    "ax.set_xlabel('Det A')\n",
    "ax.set_ylabel('Probability distribution')\n",
    "ax.set_xlim(Min-1, Max+1)\n",
    "ax.set_xticks(np.arange(Min,Max+1))\n",
    "plt.grid('on')\n",
    "plt.show()\n"
   ]
  },
  {
   "cell_type": "markdown",
   "id": "2a8f53f4-af01-46ef-8ddc-6f8858702710",
   "metadata": {},
   "source": [
    "## Playing the game with 2x2 matrices"
   ]
  },
  {
   "cell_type": "code",
   "execution_count": 5,
   "id": "92e69b1a-f490-41f5-8e72-891042ba9243",
   "metadata": {},
   "outputs": [
    {
     "name": "stdout",
     "output_type": "stream",
     "text": [
      "Your turn. Enter your move in the format 'row column':\n"
     ]
    },
    {
     "name": "stdin",
     "output_type": "stream",
     "text": [
      " 0 0\n"
     ]
    },
    {
     "name": "stdout",
     "output_type": "stream",
     "text": [
      "0  \n",
      "   \n",
      "Computer's turn:\n",
      "0  \n",
      "1  \n",
      "Your turn. Enter your move in the format 'row column':\n"
     ]
    },
    {
     "name": "stdin",
     "output_type": "stream",
     "text": [
      " 0 1\n"
     ]
    },
    {
     "name": "stdout",
     "output_type": "stream",
     "text": [
      "0 0\n",
      "1  \n",
      "Computer's turn:\n",
      "0 0\n",
      "1 1\n",
      "Game over.\n",
      "Determinant:  0\n",
      "You win!\n"
     ]
    }
   ],
   "source": [
    "import numpy as np\n",
    "import random\n",
    "\n",
    "# 2x2 matrix\n",
    "matrix = np.full((2, 2), -1)\n",
    "\n",
    "def print_matrix(matrix):\n",
    "    for row in matrix:\n",
    "        print(' '.join(str(x) if x != -1 else ' ' for x in row))\n",
    "\n",
    "def get_empty_cells(matrix):\n",
    "    return [(i, j) for i in range(2) for j in range(2) if matrix[i][j] == -1]\n",
    "\n",
    "def play_game(matrix):\n",
    "    while True:\n",
    "        # p0 goes\n",
    "        while True:\n",
    "            print(\"Your turn. Enter your move in the format 'row column':\")\n",
    "            row, col = map(int, input().split())\n",
    "            if 0 <= row < 2 and 0 <= col < 2 and matrix[row][col] == -1:\n",
    "                matrix[row][col] = 0  \n",
    "                break\n",
    "            else:\n",
    "                print(\"You cannot go here, try again.\")\n",
    "        print_matrix(matrix)\n",
    "        \n",
    "        empty_cells = get_empty_cells(matrix)\n",
    "        if not empty_cells:  # If no empty cells, the game is over\n",
    "            break\n",
    "\n",
    "        # p1 random move\n",
    "        print(\"Computer's turn:\")\n",
    "        row, col = random.choice(empty_cells)\n",
    "        matrix[row][col] = 1  \n",
    "        print_matrix(matrix)\n",
    "        \n",
    "        empty_cells = get_empty_cells(matrix)\n",
    "        if not empty_cells:  # If no empty cells, the game is over\n",
    "            break\n",
    "\n",
    "    print(\"Game over.\")\n",
    "    print(\"Determinant: \", int(np.linalg.det(matrix)))\n",
    "    if np.linalg.det(matrix) == 0:\n",
    "        print(\"You win!\")\n",
    "    else:\n",
    "        print(\"You lose!\")\n",
    "\n",
    "play_game(matrix)\n"
   ]
  },
  {
   "cell_type": "markdown",
   "id": "141ebc58-6344-420e-8a36-e7f5104809a3",
   "metadata": {},
   "source": [
    "## 3x3 Game"
   ]
  },
  {
   "cell_type": "code",
   "execution_count": 6,
   "id": "d0f0835f-3f7c-470a-9c36-d50c69c69d2b",
   "metadata": {},
   "outputs": [
    {
     "name": "stdout",
     "output_type": "stream",
     "text": [
      "Your turn. Enter your move in the format 'row column':\n"
     ]
    },
    {
     "name": "stdin",
     "output_type": "stream",
     "text": [
      " 1 1\n"
     ]
    },
    {
     "name": "stdout",
     "output_type": "stream",
     "text": [
      "     \n",
      "  0  \n",
      "     \n",
      "Computer's turn:\n",
      "  1  \n",
      "  0  \n",
      "     \n",
      "Your turn. Enter your move in the format 'row column':\n"
     ]
    },
    {
     "name": "stdin",
     "output_type": "stream",
     "text": [
      " 2 2\n"
     ]
    },
    {
     "name": "stdout",
     "output_type": "stream",
     "text": [
      "  1  \n",
      "  0  \n",
      "    0\n",
      "Computer's turn:\n",
      "  1 1\n",
      "  0  \n",
      "    0\n",
      "Your turn. Enter your move in the format 'row column':\n"
     ]
    },
    {
     "name": "stdin",
     "output_type": "stream",
     "text": [
      " 2 1\n"
     ]
    },
    {
     "name": "stdout",
     "output_type": "stream",
     "text": [
      "  1 1\n",
      "  0  \n",
      "  0 0\n",
      "Computer's turn:\n",
      "1 1 1\n",
      "  0  \n",
      "  0 0\n",
      "Your turn. Enter your move in the format 'row column':\n"
     ]
    },
    {
     "name": "stdin",
     "output_type": "stream",
     "text": [
      " 0 2\n"
     ]
    },
    {
     "name": "stdout",
     "output_type": "stream",
     "text": [
      "You cannot go here, try again.\n",
      "Your turn. Enter your move in the format 'row column':\n"
     ]
    },
    {
     "name": "stdin",
     "output_type": "stream",
     "text": [
      " 2 0\n"
     ]
    },
    {
     "name": "stdout",
     "output_type": "stream",
     "text": [
      "1 1 1\n",
      "  0  \n",
      "0 0 0\n",
      "Computer's turn:\n",
      "1 1 1\n",
      "  0 1\n",
      "0 0 0\n",
      "Your turn. Enter your move in the format 'row column':\n"
     ]
    },
    {
     "name": "stdin",
     "output_type": "stream",
     "text": [
      " 1 0\n"
     ]
    },
    {
     "name": "stdout",
     "output_type": "stream",
     "text": [
      "1 1 1\n",
      "0 0 1\n",
      "0 0 0\n",
      "Game over.\n",
      "Determinant:  0\n",
      "You win!\n"
     ]
    }
   ],
   "source": [
    "import numpy as np\n",
    "import random\n",
    "\n",
    "# 3x3 matrix\n",
    "matrix = np.full((3, 3), -1)\n",
    "\n",
    "def print_matrix(matrix):\n",
    "    for row in matrix:\n",
    "        print(' '.join(str(x) if x != -1 else ' ' for x in row))\n",
    "\n",
    "def get_empty_cells(matrix):\n",
    "    return [(i, j) for i in range(3) for j in range(3) if matrix[i][j] == -1]\n",
    "\n",
    "def play_game(matrix):\n",
    "    while True:\n",
    "        # p0 goes\n",
    "        while True:\n",
    "            print(\"Your turn. Enter your move in the format 'row column':\")\n",
    "            row, col = map(int, input().split())\n",
    "            if 0 <= row < 3 and 0 <= col < 3 and matrix[row][col] == -1:\n",
    "                matrix[row][col] = 0 \n",
    "                break\n",
    "            else:\n",
    "                print(\"You cannot go here, try again.\")\n",
    "        print_matrix(matrix)\n",
    "        \n",
    "        empty_cells = get_empty_cells(matrix)\n",
    "        if not empty_cells:  # If no empty cells, the game is over\n",
    "            break\n",
    "\n",
    "        # p1 goes\n",
    "        print(\"Computer's turn:\")\n",
    "        row, col = random.choice(empty_cells)\n",
    "        matrix[row][col] = 1  \n",
    "        print_matrix(matrix)\n",
    "        \n",
    "        empty_cells = get_empty_cells(matrix)\n",
    "        if not empty_cells:  # If no empty cells, the game is over\n",
    "            break\n",
    "\n",
    "    print(\"Game over.\")\n",
    "    print(\"Determinant: \", int(np.linalg.det(matrix)))\n",
    "    if np.linalg.det(matrix) == 0:\n",
    "        print(\"You win!\")\n",
    "    else:\n",
    "        print(\"You lose!\")\n",
    "\n",
    "play_game(matrix)\n"
   ]
  },
  {
   "cell_type": "markdown",
   "id": "d62406f2-a97f-4c77-a896-7edddc87ff2f",
   "metadata": {},
   "source": [
    "## 4x4 Game"
   ]
  },
  {
   "cell_type": "code",
   "execution_count": 8,
   "id": "0514e3ca-327b-4d4e-8ce8-507d15edff3d",
   "metadata": {},
   "outputs": [
    {
     "name": "stdout",
     "output_type": "stream",
     "text": [
      "Your turn. Enter your move in the format 'row column':\n"
     ]
    },
    {
     "name": "stdin",
     "output_type": "stream",
     "text": [
      " 0 0\n"
     ]
    },
    {
     "name": "stdout",
     "output_type": "stream",
     "text": [
      "0      \n",
      "       \n",
      "       \n",
      "       \n",
      "Computer's turn:\n",
      "0      \n",
      "       \n",
      "       \n",
      "1      \n",
      "Your turn. Enter your move in the format 'row column':\n"
     ]
    },
    {
     "name": "stdin",
     "output_type": "stream",
     "text": [
      " 0 2\n"
     ]
    },
    {
     "name": "stdout",
     "output_type": "stream",
     "text": [
      "0   0  \n",
      "       \n",
      "       \n",
      "1      \n",
      "Computer's turn:\n",
      "0   0  \n",
      "       \n",
      "  1    \n",
      "1      \n",
      "Your turn. Enter your move in the format 'row column':\n"
     ]
    },
    {
     "name": "stdin",
     "output_type": "stream",
     "text": [
      " 2 0\n"
     ]
    },
    {
     "name": "stdout",
     "output_type": "stream",
     "text": [
      "0   0  \n",
      "       \n",
      "0 1    \n",
      "1      \n",
      "Computer's turn:\n",
      "0   0  \n",
      "1      \n",
      "0 1    \n",
      "1      \n",
      "Your turn. Enter your move in the format 'row column':\n"
     ]
    },
    {
     "name": "stdin",
     "output_type": "stream",
     "text": [
      " 3 1\n"
     ]
    },
    {
     "name": "stdout",
     "output_type": "stream",
     "text": [
      "0   0  \n",
      "1      \n",
      "0 1    \n",
      "1 0    \n",
      "Computer's turn:\n",
      "0   0 1\n",
      "1      \n",
      "0 1    \n",
      "1 0    \n",
      "Your turn. Enter your move in the format 'row column':\n"
     ]
    },
    {
     "name": "stdin",
     "output_type": "stream",
     "text": [
      " 1 3\n"
     ]
    },
    {
     "name": "stdout",
     "output_type": "stream",
     "text": [
      "0   0 1\n",
      "1     0\n",
      "0 1    \n",
      "1 0    \n",
      "Computer's turn:\n",
      "0   0 1\n",
      "1 1   0\n",
      "0 1    \n",
      "1 0    \n",
      "Your turn. Enter your move in the format 'row column':\n"
     ]
    },
    {
     "name": "stdin",
     "output_type": "stream",
     "text": [
      " 0 1\n"
     ]
    },
    {
     "name": "stdout",
     "output_type": "stream",
     "text": [
      "0 0 0 1\n",
      "1 1   0\n",
      "0 1    \n",
      "1 0    \n",
      "Computer's turn:\n",
      "0 0 0 1\n",
      "1 1   0\n",
      "0 1 1  \n",
      "1 0    \n",
      "Your turn. Enter your move in the format 'row column':\n"
     ]
    },
    {
     "name": "stdin",
     "output_type": "stream",
     "text": [
      " 3 2\n"
     ]
    },
    {
     "name": "stdout",
     "output_type": "stream",
     "text": [
      "0 0 0 1\n",
      "1 1   0\n",
      "0 1 1  \n",
      "1 0 0  \n",
      "Computer's turn:\n",
      "0 0 0 1\n",
      "1 1 1 0\n",
      "0 1 1  \n",
      "1 0 0  \n",
      "Your turn. Enter your move in the format 'row column':\n"
     ]
    },
    {
     "name": "stdin",
     "output_type": "stream",
     "text": [
      " 2 3\n"
     ]
    },
    {
     "name": "stdout",
     "output_type": "stream",
     "text": [
      "0 0 0 1\n",
      "1 1 1 0\n",
      "0 1 1 0\n",
      "1 0 0  \n",
      "Computer's turn:\n",
      "0 0 0 1\n",
      "1 1 1 0\n",
      "0 1 1 0\n",
      "1 0 0 1\n",
      "Game over. Determinant:  0\n",
      "You win\n"
     ]
    }
   ],
   "source": [
    "import numpy as np\n",
    "import random\n",
    "\n",
    "# 4x4 matrix\n",
    "matrix = np.full((4, 4), -1)\n",
    "\n",
    "def print_matrix(matrix):\n",
    "    for row in matrix:\n",
    "        print(' '.join(str(x) if x != -1 else ' ' for x in row))\n",
    "\n",
    "def get_empty_cells(matrix):\n",
    "    return [(i, j) for i in range(4) for j in range(4) if matrix[i][j] == -1]\n",
    "\n",
    "def play_game(matrix):\n",
    "    while True:\n",
    "        # p0 goes\n",
    "        while True:\n",
    "            print(\"Your turn. Enter your move in the format 'row column':\")\n",
    "            row, col = map(int, input().split())\n",
    "            if 0 <= row < 4 and 0 <= col < 4 and matrix[row][col] == -1:\n",
    "                matrix[row][col] = 0  \n",
    "                break\n",
    "            else:\n",
    "                print(\"You cannot go here, try again.\")\n",
    "        print_matrix(matrix)\n",
    "        \n",
    "        empty_cells = get_empty_cells(matrix)\n",
    "        if not empty_cells:  # If no empty cells, the game is over\n",
    "            break\n",
    "\n",
    "        # p1 goes\n",
    "        print(\"Computer's turn:\")\n",
    "        row, col = random.choice(empty_cells)\n",
    "        matrix[row][col] = 1  \n",
    "        print_matrix(matrix)\n",
    "        \n",
    "        empty_cells = get_empty_cells(matrix)\n",
    "        if not empty_cells:  # If no empty cells, the game is over\n",
    "            break\n",
    "\n",
    "    print(\"Game over. Determinant: \", int(np.linalg.det(matrix)))\n",
    "    if np.linalg.det(matrix) == 0:\n",
    "        print('You win')\n",
    "    else:\n",
    "        print('You lose')\n",
    "\n",
    "play_game(matrix)\n"
   ]
  },
  {
   "cell_type": "code",
   "execution_count": null,
   "id": "e14fecf3-ab5c-4160-8fc5-2b2db6230aaa",
   "metadata": {},
   "outputs": [],
   "source": []
  }
 ],
 "metadata": {
  "kernelspec": {
   "display_name": "Python 3 (ipykernel)",
   "language": "python",
   "name": "python3"
  },
  "language_info": {
   "codemirror_mode": {
    "name": "ipython",
    "version": 3
   },
   "file_extension": ".py",
   "mimetype": "text/x-python",
   "name": "python",
   "nbconvert_exporter": "python",
   "pygments_lexer": "ipython3",
   "version": "3.9.7"
  }
 },
 "nbformat": 4,
 "nbformat_minor": 5
}
